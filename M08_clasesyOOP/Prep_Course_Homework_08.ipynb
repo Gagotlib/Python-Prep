{
 "cells": [
  {
   "attachments": {},
   "cell_type": "markdown",
   "metadata": {},
   "source": [
    "## Clases y Programación Orientada a Objetos"
   ]
  },
  {
   "attachments": {},
   "cell_type": "markdown",
   "metadata": {},
   "source": [
    "1) Crear la clase vehículo que contenga los atributos:<br>\n",
    "Color<br>\n",
    "Si es moto, auto, camioneta ó camión<br>\n",
    "Cilindrada del motor"
   ]
  },
  {
   "cell_type": "code",
   "execution_count": 1,
   "metadata": {},
   "outputs": [],
   "source": [
    "class vehiculo:\n",
    "    def __init__ (self, color, tipo, cilindrada):\n",
    "        self.color = color\n",
    "        self.tipo = tipo\n",
    "        self.cilindrada = cilindrada\n",
    "    "
   ]
  },
  {
   "attachments": {},
   "cell_type": "markdown",
   "metadata": {},
   "source": [
    "2) A la clase Vehiculo creada en el punto 1, agregar los siguientes métodos:<br>\n",
    "Acelerar<br>\n",
    "Frenar<br>\n",
    "Doblar<br>"
   ]
  },
  {
   "cell_type": "code",
   "execution_count": 6,
   "metadata": {},
   "outputs": [],
   "source": [
    "class vehiculo:\n",
    "    def __init__ (self, color, tipo, cilindrada):\n",
    "        self.color = str(color)\n",
    "        self.tipo = tipo\n",
    "        self.cilindrada = cilindrada\n",
    "        self.velocidad = 1\n",
    "        self.direccion = 0\n",
    "\n",
    "    def acelerar(self,km):\n",
    "        self.velocidad += km\n",
    "        print(self.tipo, \"esta acelerando\")\n",
    "    \n",
    "    def frenar(self,km):\n",
    "        self.velocidad -=km\n",
    "        print(self.tipo, \"esta frenando\")\n",
    "    \n",
    "    def doblar(self):\n",
    "        print(self.tipo, \"esta doblando\")\n",
    "\n",
    "    def velactual(self):\n",
    "        print(self.tipo, \"esta yendo a \", self.velocidad,\"km/h\")"
   ]
  },
  {
   "attachments": {},
   "cell_type": "markdown",
   "metadata": {},
   "source": [
    "3) Instanciar 3 objetos de la clase vehículo y ejecutar sus métodos, probar luego el resultado"
   ]
  },
  {
   "cell_type": "code",
   "execution_count": 7,
   "metadata": {},
   "outputs": [
    {
     "name": "stdout",
     "output_type": "stream",
     "text": [
      "camioneta esta acelerando\n",
      "auto esta acelerando\n",
      "auto esta frenando\n",
      "moto esta doblando\n",
      "camioneta esta yendo a  11 km/h\n",
      "auto esta yendo a  31 km/h\n"
     ]
    }
   ],
   "source": [
    "ford = vehiculo(\"azul\", \"camioneta\", \"2.0\")\n",
    "peugi = vehiculo(\"gris\", \"auto\", \"1.4\")\n",
    "fz = vehiculo(\"negro\", \"moto\", \"150\")\n",
    "\n",
    "ford.acelerar(10)\n",
    "peugi.acelerar(35)\n",
    "peugi.frenar(5)\n",
    "fz.doblar()\n",
    "ford.velactual()\n",
    "peugi.velactual()"
   ]
  },
  {
   "attachments": {},
   "cell_type": "markdown",
   "metadata": {},
   "source": [
    "4) Agregar a la clase Vehiculo, un método que muestre su estado, es decir, a que velocidad se encuentra y su dirección. Y otro método que muestre color, tipo y cilindrada"
   ]
  },
  {
   "cell_type": "code",
   "execution_count": 8,
   "metadata": {},
   "outputs": [
    {
     "name": "stdout",
     "output_type": "stream",
     "text": [
      "auto es un auto de color gris de cilindrada: 1.4\n"
     ]
    }
   ],
   "source": [
    "class vehiculo:\n",
    "    def __init__ (self, color, tipo, cilindrada):\n",
    "        self.color = str(color)\n",
    "        self.tipo = tipo\n",
    "        self.cilindrada = cilindrada\n",
    "        self.velocidad = 1\n",
    "        self.direccion = 0\n",
    "\n",
    "    def acelerar(self,km):\n",
    "        self.velocidad += km\n",
    "        print(self.tipo, \"esta acelerando\")\n",
    "    \n",
    "    def frenar(self,km):\n",
    "        self.velocidad -=km\n",
    "        print(self.tipo, \"esta frenando\")\n",
    "    \n",
    "    def doblar(self):\n",
    "        print(self.tipo, \"esta doblando\")\n",
    "\n",
    "    def velactual(self):\n",
    "        print(self.tipo, \"esta yendo a \", self.velocidad,\"km/h\")\n",
    "\n",
    "    def descripcion(self):\n",
    "        print(self.tipo,\"es un\", self.tipo,\"de color\", self.color,\"de cilindrada:\",self.cilindrada)\n",
    "\n",
    "peugi = vehiculo(\"gris\", \"auto\", \"1.4\")\n",
    "peugi.descripcion() "
   ]
  },
  {
   "attachments": {},
   "cell_type": "markdown",
   "metadata": {},
   "source": [
    "5) Crear una clase que permita utilizar las funciones creadas en la práctica del módulo 7<br>\n",
    "Verificar Primo<br>\n",
    "Valor modal<br>\n",
    "Conversión grados<br>\n",
    "Factorial<br>"
   ]
  },
  {
   "cell_type": "code",
   "execution_count": 10,
   "metadata": {},
   "outputs": [],
   "source": [
    "class herramientas:\n",
    "      \n",
    "\n",
    "    def convertir_grados(self, valor, origen, destino):\n",
    "        if origen == \"Celsius\" and destino == \"Farenheit\":\n",
    "            valor_destino = (valor * 9/5) +32\n",
    "        elif origen == \"Celsius\" and destino == \"Kelvin\":\n",
    "            valor_destino = valor + 273.15\n",
    "        elif origen == \"Celsius\" and destino == \"Celsius\":\n",
    "            valor_destino = valor\n",
    "        elif origen == \"Farenheit\" and destino == \"Celsius\":\n",
    "            valor_destino = (valor -32) * 5/9\n",
    "        elif origen == \"Farenheit\" and destino == \"Kelvin\":\n",
    "            valor_destino = ((valor - 32) * 5/9) + 273.15\n",
    "        elif origen == \"Farenheit\" and destino == \"Farenheit\":\n",
    "            valor_destino = valor\n",
    "        elif origen == \"Kelvin\" and destino == \"Celsius\":\n",
    "            valor_destino = valor - 273.15\n",
    "        elif origen == \"Kelvin\" and destino == \"Farenheit\":\n",
    "            valor_destino = (valor - 273.15) *9/5 + 32\n",
    "        elif origen == \"Kelvin\" and destino == \"Kelvin\":\n",
    "            valor_destino = valor\n",
    "        else:\n",
    "            return \"unidades no validas\"\n",
    "        return valor_destino\n",
    "\n",
    "    def masrepetido(self, lista):\n",
    "        contador = {}\n",
    "        for i in lista:\n",
    "            if i in contador:\n",
    "                contador[i] +=1\n",
    "        \n",
    "        if not (i in contador):\n",
    "            contador[i] = 1\n",
    "                \n",
    "        print(contador)\n",
    "        nrepeticionesmax = 0\n",
    "        elmasrepetido = None\n",
    "        for numero, repeticiones in contador.items():\n",
    "            if repeticiones > nrepeticionesmax:\n",
    "                nrepeticionesmax = repeticiones\n",
    "                elmasrepetido = numero\n",
    "        print(f\"el numero mas repetido es el {elmasrepetido} que se repite {nrepeticionesmax} veces\")\n",
    "        return nrepeticionesmax, elmasrepetido\n",
    "\n",
    "    def encontrarprimo(self):\n",
    "        ciclos = 0\n",
    "        n = 0\n",
    "        primo = True\n",
    "        tope_rango = 30\n",
    "\n",
    "        while (n < tope_rango):\n",
    "            for div in range(2, n):\n",
    "                ciclos += 1\n",
    "                if (n % div == 0):\n",
    "                    primo = False\n",
    "            if (primo):\n",
    "                print(n)\n",
    "            else:\n",
    "                primo = True\n",
    "            \n",
    "            n+=1\n",
    "\n",
    "        print (\"cantidad de siclos: \", str(ciclos))\n"
   ]
  },
  {
   "attachments": {},
   "cell_type": "markdown",
   "metadata": {},
   "source": [
    "6) Probar las funciones incorporadas en la clase del punto 5"
   ]
  },
  {
   "cell_type": "code",
   "execution_count": 24,
   "metadata": {},
   "outputs": [
    {
     "name": "stdout",
     "output_type": "stream",
     "text": [
      "1 grados Celsius son 33.8 grados Farenheit\n",
      "1 grados Celsius son 33.8 grados Farenheit\n",
      "5 grados Celsius son 41.0 grados Farenheit\n",
      "6 grados Celsius son 42.8 grados Farenheit\n",
      "8 grados Celsius son 46.4 grados Farenheit\n",
      "10 grados Celsius son 50.0 grados Farenheit\n",
      "22 grados Celsius son 71.6 grados Farenheit\n",
      "5 grados Celsius son 41.0 grados Farenheit\n",
      "6 grados Celsius son 42.8 grados Farenheit\n",
      "4 grados Celsius son 39.2 grados Farenheit\n",
      "11 grados Celsius son 51.8 grados Farenheit\n",
      "9 grados Celsius son 48.2 grados Farenheit\n",
      "5 grados Celsius son 41.0 grados Farenheit\n"
     ]
    }
   ],
   "source": [
    "lista_numeros = [1,1,5,6,8,10,22,5,6,4,11,9,5]\n",
    "h = herramientas(lista_numeros)\n",
    "h.convertir_grados( \"Celsius\", \"Farenheit\")\n"
   ]
  },
  {
   "cell_type": "code",
   "execution_count": 17,
   "metadata": {},
   "outputs": [
    {
     "name": "stdout",
     "output_type": "stream",
     "text": [
      "0\n",
      "1\n",
      "2\n",
      "3\n",
      "5\n",
      "7\n",
      "11\n",
      "13\n",
      "17\n",
      "19\n",
      "23\n",
      "29\n",
      "cantidad de siclos:  378\n"
     ]
    }
   ],
   "source": [
    "h.encontrarprimo()"
   ]
  },
  {
   "cell_type": "code",
   "execution_count": 22,
   "metadata": {},
   "outputs": [
    {
     "name": "stdout",
     "output_type": "stream",
     "text": [
      "{1: 2, 5: 3, 6: 2, 8: 1, 10: 1, 22: 1, 4: 1, 11: 1, 9: 1}\n",
      "el numero mas repetido es el 5 que se repite 3 veces\n"
     ]
    },
    {
     "data": {
      "text/plain": [
       "(3, 5)"
      ]
     },
     "execution_count": 22,
     "metadata": {},
     "output_type": "execute_result"
    }
   ],
   "source": [
    "h.masrepetido(lista_numeros)"
   ]
  },
  {
   "attachments": {},
   "cell_type": "markdown",
   "metadata": {},
   "source": [
    "7) Es necesario que la clase creada en el punto 5 contenga una lista, sobre la cual se apliquen las funciones incorporadas"
   ]
  },
  {
   "cell_type": "code",
   "execution_count": 14,
   "metadata": {},
   "outputs": [],
   "source": [
    "class herramientas:\n",
    "    def __init__(self, listavalores):\n",
    "        self.listavalores = listavalores \n",
    "\n",
    "    def convertir_grados(self, origen, destino):\n",
    "        for i in self.listavalores:\n",
    "            print(i,\"grados\", origen, \"son\",self.__convertir_grados(i,origen,destino), \"grados\", destino)\n",
    "\n",
    "    def __convertir_grados(self, valor, origen, destino):\n",
    "        if origen == \"Celsius\" and destino == \"Farenheit\":\n",
    "            valor_destino = (valor * 9/5) +32\n",
    "        elif origen == \"Celsius\" and destino == \"Kelvin\":\n",
    "            valor_destino = valor + 273.15\n",
    "        elif origen == \"Celsius\" and destino == \"Celsius\":\n",
    "            valor_destino = valor\n",
    "        elif origen == \"Farenheit\" and destino == \"Celsius\":\n",
    "            valor_destino = (valor -32) * 5/9\n",
    "        elif origen == \"Farenheit\" and destino == \"Kelvin\":\n",
    "            valor_destino = ((valor - 32) * 5/9) + 273.15\n",
    "        elif origen == \"Farenheit\" and destino == \"Farenheit\":\n",
    "            valor_destino = valor\n",
    "        elif origen == \"Kelvin\" and destino == \"Celsius\":\n",
    "            valor_destino = valor - 273.15\n",
    "        elif origen == \"Kelvin\" and destino == \"Farenheit\":\n",
    "            valor_destino = (valor - 273.15) *9/5 + 32\n",
    "        elif origen == \"Kelvin\" and destino == \"Kelvin\":\n",
    "            valor_destino = valor\n",
    "        else:\n",
    "            return \"unidades no validas\"\n",
    "        return valor_destino\n",
    "        \n",
    "\n",
    "    def masrepetido(self, listavalores):\n",
    "        contador = {}\n",
    "        for i in listavalores:\n",
    "            if i in contador:\n",
    "                contador[i] +=1\n",
    "        \n",
    "            elif not (i in contador):\n",
    "                contador[i] = 1\n",
    "                \n",
    "        print(contador)\n",
    "        nrepeticionesmax = 0\n",
    "        elmasrepetido = None\n",
    "        for numero, repeticiones in contador.items():\n",
    "            if repeticiones > nrepeticionesmax:\n",
    "                nrepeticionesmax = repeticiones\n",
    "                elmasrepetido = numero\n",
    "        print(f\"el numero mas repetido es el {elmasrepetido} que se repite {nrepeticionesmax} veces\")\n",
    "        return nrepeticionesmax, elmasrepetido\n",
    "\n",
    "    def encontrarprimo(self):\n",
    "        for i in self.listavalores:\n",
    "            if (self.__encontrarprimo(i)):\n",
    "                print(i,\"es primo\")\n",
    "            else:\n",
    "                print(i,\"no es primo\")\n",
    "                \n",
    "    \n",
    "    def __encontrarprimo(self,nro):\n",
    "        primo = True\n",
    "        for div in range(2, nro):\n",
    "            if (nro % div == 0):\n",
    "                primo = False\n",
    "        if (primo):\n",
    "            return primo\n",
    "        else:\n",
    "            return False\n",
    "        \n",
    "\n"
   ]
  },
  {
   "cell_type": "code",
   "execution_count": 19,
   "metadata": {},
   "outputs": [
    {
     "name": "stdout",
     "output_type": "stream",
     "text": [
      "1 grados Farenheit son -17.22222222222222 grados Celsius\n",
      "1 grados Farenheit son -17.22222222222222 grados Celsius\n",
      "2 grados Farenheit son -16.666666666666668 grados Celsius\n",
      "5 grados Farenheit son -15.0 grados Celsius\n",
      "8 grados Farenheit son -13.333333333333334 grados Celsius\n",
      "8 grados Farenheit son -13.333333333333334 grados Celsius\n",
      "9 grados Farenheit son -12.777777777777779 grados Celsius\n",
      "11 grados Farenheit son -11.666666666666666 grados Celsius\n",
      "15 grados Farenheit son -9.444444444444445 grados Celsius\n",
      "16 grados Farenheit son -8.88888888888889 grados Celsius\n",
      "16 grados Farenheit son -8.88888888888889 grados Celsius\n",
      "16 grados Farenheit son -8.88888888888889 grados Celsius\n",
      "18 grados Farenheit son -7.777777777777778 grados Celsius\n",
      "20 grados Farenheit son -6.666666666666667 grados Celsius\n"
     ]
    }
   ],
   "source": [
    "listavalores = [1,1,2,5,8,8,9,11,15,16,16,16,18,20]\n",
    "h = herramientas(listavalores)\n",
    "h.convertir_grados(\"Farenheit\", \"Celsius\")"
   ]
  },
  {
   "cell_type": "code",
   "execution_count": 20,
   "metadata": {},
   "outputs": [
    {
     "name": "stdout",
     "output_type": "stream",
     "text": [
      "{1: 2, 2: 1, 5: 1, 8: 2, 9: 1, 11: 1, 15: 1, 16: 3, 18: 1, 20: 1}\n",
      "el numero mas repetido es el 16 que se repite 3 veces\n"
     ]
    },
    {
     "data": {
      "text/plain": [
       "(3, 16)"
      ]
     },
     "execution_count": 20,
     "metadata": {},
     "output_type": "execute_result"
    }
   ],
   "source": [
    "h.masrepetido(listavalores)"
   ]
  },
  {
   "cell_type": "code",
   "execution_count": 21,
   "metadata": {},
   "outputs": [
    {
     "name": "stdout",
     "output_type": "stream",
     "text": [
      "1 es primo\n",
      "1 es primo\n",
      "2 es primo\n",
      "5 es primo\n",
      "8 no es primo\n",
      "8 no es primo\n",
      "9 no es primo\n",
      "11 es primo\n",
      "15 no es primo\n",
      "16 no es primo\n",
      "16 no es primo\n",
      "16 no es primo\n",
      "18 no es primo\n",
      "20 no es primo\n"
     ]
    }
   ],
   "source": [
    "h.encontrarprimo()"
   ]
  },
  {
   "attachments": {},
   "cell_type": "markdown",
   "metadata": {},
   "source": [
    "8) Crear un archivo .py aparte y ubicar allí la clase generada en el punto anterior. Luego realizar la importación del módulo y probar alguna de sus funciones"
   ]
  },
  {
   "cell_type": "code",
   "execution_count": 28,
   "metadata": {},
   "outputs": [
    {
     "name": "stdout",
     "output_type": "stream",
     "text": [
      "{1: 2, 2: 1, 5: 1, 8: 2, 9: 1, 11: 1, 15: 1, 16: 3, 18: 1, 20: 4}\n",
      "el numero mas repetido es el 20 que se repite 4 veces\n"
     ]
    },
    {
     "data": {
      "text/plain": [
       "(4, 20)"
      ]
     },
     "execution_count": 28,
     "metadata": {},
     "output_type": "execute_result"
    }
   ],
   "source": [
    "from herramientas2 import *\n",
    "h2 = herramientas2 ([1,1,2,5,8,8,9,11,15,16,16,16,18,20])\n",
    "\n",
    "h2.masrepetido([1,1,2,5,8,8,9,11,15,16,16,16,18,20,20,20,20])"
   ]
  }
 ],
 "metadata": {
  "interpreter": {
   "hash": "c85384e4cb51c8b72350f3a8712cc8351fdc3955e32a27f9b60c6242ab125f01"
  },
  "kernelspec": {
   "display_name": "Python 3 (ipykernel)",
   "language": "python",
   "name": "python3"
  },
  "language_info": {
   "codemirror_mode": {
    "name": "ipython",
    "version": 3
   },
   "file_extension": ".py",
   "mimetype": "text/x-python",
   "name": "python",
   "nbconvert_exporter": "python",
   "pygments_lexer": "ipython3",
   "version": "3.11.4"
  }
 },
 "nbformat": 4,
 "nbformat_minor": 4
}
