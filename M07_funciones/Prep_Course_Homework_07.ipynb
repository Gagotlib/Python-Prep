{
 "cells": [
  {
   "attachments": {},
   "cell_type": "markdown",
   "metadata": {},
   "source": [
    "## Funciones"
   ]
  },
  {
   "attachments": {},
   "cell_type": "markdown",
   "metadata": {},
   "source": [
    "1) Crear una función que reciba un número como parámetro y devuelva True si es primo y False si no lo es"
   ]
  },
  {
   "cell_type": "code",
   "execution_count": 17,
   "metadata": {},
   "outputs": [
    {
     "data": {
      "text/plain": [
       "True"
      ]
     },
     "execution_count": 17,
     "metadata": {},
     "output_type": "execute_result"
    }
   ],
   "source": [
    "def esprimo (n):\n",
    "    primo = True\n",
    "    for i in range (2,n):\n",
    "        if n % i == 0:\n",
    "            primo = False\n",
    "            return primo\n",
    "            break\n",
    "        else:\n",
    "            return primo\n",
    "\n",
    "esprimo(7)"
   ]
  },
  {
   "attachments": {},
   "cell_type": "markdown",
   "metadata": {},
   "source": [
    "2) Utilizando la función del punto 1, realizar otra función que reciba de parámetro una lista de números y devuelva sólo aquellos que son primos en otra lista"
   ]
  },
  {
   "cell_type": "code",
   "execution_count": 22,
   "metadata": {},
   "outputs": [
    {
     "data": {
      "text/plain": [
       "[3, 5, 7, 9]"
      ]
     },
     "execution_count": 22,
     "metadata": {},
     "output_type": "execute_result"
    }
   ],
   "source": [
    "def crealistadeprimos(listadenumeros):\n",
    "    listadeprimos=[]\n",
    "    for i in listadenumeros:\n",
    "        if esprimo(i):\n",
    "            listadeprimos.append(i)\n",
    "    return listadeprimos\n",
    "  \n",
    "listadenumeros= [1,2,3,4,5,6,7,8,9,10]\n",
    "crealistadeprimos(listadenumeros)    "
   ]
  },
  {
   "attachments": {},
   "cell_type": "markdown",
   "metadata": {},
   "source": [
    "3) Crear una función que al recibir una lista de números, devuelva el que más se repite y cuántas veces lo hace. Si hay más de un \"más repetido\", que devuelva cualquiera"
   ]
  },
  {
   "cell_type": "code",
   "execution_count": 52,
   "metadata": {},
   "outputs": [
    {
     "name": "stdout",
     "output_type": "stream",
     "text": [
      "{1: 2, 5: 3, 6: 2, 8: 1, 10: 1, 22: 1, 4: 1, 11: 1, 9: 1}\n",
      "el numero mas repetido es el 5 que se repite 3 veces\n"
     ]
    },
    {
     "data": {
      "text/plain": [
       "(3, 5)"
      ]
     },
     "execution_count": 52,
     "metadata": {},
     "output_type": "execute_result"
    }
   ],
   "source": [
    "def masrepetido(lista):\n",
    "    contador = {}\n",
    "    for i in lista:\n",
    "        if i in contador:\n",
    "            contador[i] +=1\n",
    "        \n",
    "        if not (i in contador):\n",
    "            contador[i] = 1\n",
    "            \n",
    "    print(contador)\n",
    "    nrepeticionesmax = 0\n",
    "    elmasrepetido = None\n",
    "    for numero, repeticiones in contador.items():\n",
    "        if repeticiones > nrepeticionesmax:\n",
    "            nrepeticionesmax = repeticiones\n",
    "            elmasrepetido = numero\n",
    "    print(f\"el numero mas repetido es el {elmasrepetido} que se repite {nrepeticionesmax} veces\")\n",
    "    return nrepeticionesmax, elmasrepetido\n",
    "        \n",
    "lista = [1,1,5,6,8,10,22,5,6,4,11,9,5]\n",
    "masrepetido(lista)\n"
   ]
  },
  {
   "attachments": {},
   "cell_type": "markdown",
   "metadata": {},
   "source": [
<<<<<<< HEAD
    "4) A la función del punto 3, agregar un parámetro más, que permita elegir si se requiere el menor o el mayor de los mas repetidos."
   ]
  },
  {
   "cell_type": "code",
   "execution_count": null,
   "metadata": {},
   "outputs": [],
   "source": [
    "def encontrar_numero_mas_repetido(lista, obtener_maximo=True):\n",
    "    contador = {}\n",
    "    for numero in lista:\n",
    "        if numero in contador:\n",
    "            contador[numero] += 1\n",
    "        else:\n",
    "            contador[numero] = 1\n",
    "    \n",
    "    max_repeticiones = 0\n",
    "    numeros_mas_repetidos = []\n",
    "    \n",
    "    for numero, repeticiones in contador.items():\n",
    "        if repeticiones > max_repeticiones:\n",
    "            max_repeticiones = repeticiones\n",
    "            numeros_mas_repetidos = [numero]\n",
    "        elif repeticiones == max_repeticiones:\n",
    "            numeros_mas_repetidos.append(numero)\n",
    "    \n",
    "    if obtener_maximo:\n",
    "        numero_mas_repetido = max(numeros_mas_repetidos)\n",
    "    else:\n",
    "        numero_mas_repetido = min(numeros_mas_repetidos)\n",
    "    \n",
    "    return numero_mas_repetido, max_repeticiones"
   ]
  },
  {
   "attachments": {},
   "cell_type": "markdown",
   "metadata": {},
   "source": [
    "5) Crear una función que convierta entre grados Celsius, Farenheit y Kelvin<br>\n",
=======
    "4) Crear una función que convierta entre grados Celsius, Farenheit y Kelvin<br>\n",
>>>>>>> 7b194301ed06dfea65c6618bcac91dbd78537c72
    "Fórmula 1\t: (°C × 9/5) + 32 = °F<br>\n",
    "Fórmula 2\t: °C + 273.15 = °K<br>\n",
    "Debe recibir 3 parámetros: el valor, la medida de orígen y la medida de destino\n"
   ]
  },
  {
   "cell_type": "code",
   "execution_count": 65,
   "metadata": {},
   "outputs": [
    {
     "name": "stdout",
     "output_type": "stream",
     "text": [
      "1 grado Celsius a Celsius: 1\n",
      "1 grado Celsius a Kelvin: 274.15\n",
      "1 grado Celsius a Farenheit: 33.8\n",
      "1 grado Kelvin a Celsius: -272.15\n",
      "1 grado Kelvin a Kelvin: 1\n",
      "1 grado Kelvin a Farenheit: -457.87\n",
      "1 grado Farenheit a Celsius: -17.22222222222222\n",
      "1 grado Farenheit a Kelvin: 255.92777777777775\n",
      "1 grado Farenheit a Farenheit: 1\n"
     ]
    }
   ],
   "source": [
    "def convertir_grados(valor, origen, destino):\n",
    "    if origen == \"Celsius\" and destino == \"Farenheit\":\n",
    "        valor_destino = (valor * 9/5) +32\n",
    "    elif origen == \"Celsius\" and destino == \"Kelvin\":\n",
    "        valor_destino = valor + 273.15\n",
    "    elif origen == \"Celsius\" and destino == \"Celsius\":\n",
    "        valor_destino = valor\n",
    "    elif origen == \"Farenheit\" and destino == \"Celsius\":\n",
    "        valor_destino = (valor -32) * 5/9\n",
    "    elif origen == \"Farenheit\" and destino == \"Kelvin\":\n",
    "        valor_destino = ((valor - 32) * 5/9) + 273.15\n",
    "    elif origen == \"Farenheit\" and destino == \"Farenheit\":\n",
    "        valor_destino = valor\n",
    "    elif origen == \"Kelvin\" and destino == \"Celsius\":\n",
    "        valor_destino = valor - 273.15\n",
    "    elif origen == \"Kelvin\" and destino == \"Farenheit\":\n",
    "        valor_destino = (valor - 273.15) *9/5 + 32\n",
    "    elif origen == \"Kelvin\" and destino == \"Kelvin\":\n",
    "        valor_destino = valor\n",
    "    else:\n",
    "        return \"unidades no validas\"\n",
    "    return valor_destino\n",
    "\n",
    "print('1 grado Celsius a Celsius:', convertir_grados(1, \"Celsius\", \"Celsius\"))\n",
    "print('1 grado Celsius a Kelvin:', convertir_grados(1, 'Celsius', 'Kelvin'))\n",
    "print('1 grado Celsius a Farenheit:', convertir_grados(1, 'Celsius', 'Farenheit'))\n",
    "print('1 grado Kelvin a Celsius:', convertir_grados(1, 'Kelvin', 'Celsius'))\n",
    "print('1 grado Kelvin a Kelvin:', convertir_grados(1, 'Kelvin', 'Kelvin'))\n",
    "print('1 grado Kelvin a Farenheit:', convertir_grados(1, 'Kelvin', 'Farenheit'))\n",
    "print('1 grado Farenheit a Celsius:', convertir_grados(1, 'Farenheit', 'Celsius'))\n",
    "print('1 grado Farenheit a Kelvin:', convertir_grados(1, 'Farenheit', 'Kelvin'))\n",
    "print('1 grado Farenheit a Farenheit:', convertir_grados(1, 'Farenheit', 'Farenheit'))"
   ]
  },
  {
   "attachments": {},
   "cell_type": "markdown",
   "metadata": {},
   "source": [
    "5) Iterando una lista con los tres valores posibles de temperatura que recibe la función del punto 5, hacer un print para cada combinación de los mismos:"
   ]
  },
  {
   "cell_type": "code",
   "execution_count": 71,
   "metadata": {},
   "outputs": [
    {
     "name": "stdout",
     "output_type": "stream",
     "text": [
      "1 grado Celsius son 1 grados Celsius\n",
      "1 grado Celsius son 274.15 grados Kelvin\n",
      "1 grado Celsius son 33.8 grados Farenheit\n",
      "1 grado Kelvin son -272.15 grados Celsius\n",
      "1 grado Kelvin son 1 grados Kelvin\n",
      "1 grado Kelvin son -457.87 grados Farenheit\n",
      "1 grado Farenheit son -17.22222222222222 grados Celsius\n",
      "1 grado Farenheit son 255.92777777777775 grados Kelvin\n",
      "1 grado Farenheit son 1 grados Farenheit\n"
     ]
    }
   ],
   "source": [
    "temperatura = [\"Celsius\", \"Kelvin\", \"Farenheit\"]\n",
    "x = len(temperatura)\n",
    "for i in range (0, x):\n",
    "    for j in range (0 , x):\n",
    "        print(\"1 grado\", temperatura[i], \"son\", convertir_grados(1,temperatura[i], temperatura[j]), \"grados\", temperatura[j])\n",
    "        "
   ]
  },
  {
   "attachments": {},
   "cell_type": "markdown",
   "metadata": {},
   "source": [
    "6) Armar una función que devuelva el factorial de un número. Tener en cuenta que el usuario puede equivocarse y enviar de parámetro un número no entero o negativo"
   ]
  },
  {
   "cell_type": "code",
   "execution_count": 85,
   "metadata": {},
   "outputs": [
    {
     "data": {
      "text/plain": [
       "120"
      ]
     },
     "execution_count": 85,
     "metadata": {},
     "output_type": "execute_result"
    }
   ],
   "source": [
    "def factorial(numero):\n",
    "    if type(numero) != int:\n",
    "        return \"no ingresaste un numero entero\"\n",
    "    if numero < 0:\n",
    "        return \"no ingresaste numero positivo\"\n",
    "    if numero ==1:\n",
    "        return 1\n",
    "   \n",
    "    numero = numero * factorial(numero-1)\n",
    "    return numero \n",
    "factorial(5)"
   ]
  }
 ],
 "metadata": {
  "interpreter": {
   "hash": "c85384e4cb51c8b72350f3a8712cc8351fdc3955e32a27f9b60c6242ab125f01"
  },
  "kernelspec": {
   "display_name": "Python 3 (ipykernel)",
   "language": "python",
   "name": "python3"
  },
  "language_info": {
   "codemirror_mode": {
    "name": "ipython",
    "version": 3
   },
   "file_extension": ".py",
   "mimetype": "text/x-python",
   "name": "python",
   "nbconvert_exporter": "python",
   "pygments_lexer": "ipython3",
   "version": "3.11.4"
  }
 },
 "nbformat": 4,
 "nbformat_minor": 4
}
