{
 "cells": [
  {
   "attachments": {},
   "cell_type": "markdown",
   "metadata": {},
   "source": [
    "## Flujos de Control"
   ]
  },
  {
   "attachments": {},
   "cell_type": "markdown",
   "metadata": {},
   "source": [
    "1) Crear una variable que contenga un elemento del conjunto de números enteros y luego imprimir por pantalla si es mayor o menor a cero"
   ]
  },
  {
   "cell_type": "code",
   "execution_count": 47,
   "metadata": {},
   "outputs": [
    {
     "name": "stdout",
     "output_type": "stream",
     "text": [
      "a es mayor que 0\n"
     ]
    }
   ],
   "source": [
    "a = 5\n",
    "if (a > 0):\n",
    "    print( \"a es mayor que 0\")\n",
    "else:\n",
    "    print( \" a es menor que 0\")"
   ]
  },
  {
   "attachments": {},
   "cell_type": "markdown",
   "metadata": {},
   "source": [
    "2) Crear dos variables y un condicional que informe si son del mismo tipo de dato"
   ]
  },
  {
   "cell_type": "code",
   "execution_count": 2,
   "metadata": {},
   "outputs": [
    {
     "name": "stdout",
     "output_type": "stream",
     "text": [
      "a y x no son del mismo tipo\n"
     ]
    }
   ],
   "source": [
    "a = \"hola\"\n",
    "x = 5\n",
    "if type(a) == type(x):\n",
    "    print(\" a y x son del mismo tipo\")\n",
    "else:\n",
    "    print(\"a y x no son del mismo tipo\")"
   ]
  },
  {
   "attachments": {},
   "cell_type": "markdown",
   "metadata": {},
   "source": [
    "3) Para los valores enteros del 1 al 20, imprimir por pantalla si es par o impar"
   ]
  },
  {
   "cell_type": "code",
   "execution_count": 4,
   "metadata": {},
   "outputs": [
    {
     "name": "stdout",
     "output_type": "stream",
     "text": [
      "1  es impar\n",
      "2  es par\n",
      "3  es impar\n",
      "4  es par\n",
      "5  es impar\n",
      "6  es par\n",
      "7  es impar\n",
      "8  es par\n",
      "9  es impar\n",
      "10  es par\n",
      "11  es impar\n",
      "12  es par\n",
      "13  es impar\n",
      "14  es par\n",
      "15  es impar\n",
      "16  es par\n",
      "17  es impar\n",
      "18  es par\n",
      "19  es impar\n",
      "20  es par\n"
     ]
    }
   ],
   "source": [
    "x=0\n",
    "for x in range (0,20):\n",
    "    x+=1\n",
    "    if x % 2 == 0:\n",
    "        print(x, \" es par\" )\n",
    "    else:\n",
    "        print(x, \" es impar\")"
   ]
  },
  {
   "attachments": {},
   "cell_type": "markdown",
   "metadata": {},
   "source": [
    "4) En un ciclo for mostrar para los valores entre 0 y 5 el resultado de elevarlo a la potencia igual a 3"
   ]
  },
  {
   "cell_type": "code",
   "execution_count": 8,
   "metadata": {},
   "outputs": [
    {
     "name": "stdout",
     "output_type": "stream",
     "text": [
      "el valor 0 elevado a la 3 es  0\n",
      "el valor 1 elevado a la 3 es  1\n",
      "el valor 2 elevado a la 3 es  8\n",
      "el valor 3 elevado a la 3 es  27\n",
      "el valor 4 elevado a la 3 es  64\n",
      "el valor 5 elevado a la 3 es  125\n"
     ]
    }
   ],
   "source": [
    "for x in range (0,6):\n",
    "    print (f\"el valor {x} elevado a la 3 es \", (x **3))"
   ]
  },
  {
   "attachments": {},
   "cell_type": "markdown",
   "metadata": {},
   "source": [
    "5) Crear una variable que contenga un número entero y realizar un ciclo for la misma cantidad de ciclos"
   ]
  },
  {
   "cell_type": "code",
   "execution_count": 23,
   "metadata": {},
   "outputs": [
    {
     "name": "stdout",
     "output_type": "stream",
     "text": [
      "0\n",
      "1\n",
      "2\n"
     ]
    }
   ],
   "source": [
    "x = 3\n",
    "for y in range (x):\n",
    "    print (y)\n",
    "    "
   ]
  },
  {
   "attachments": {},
   "cell_type": "markdown",
   "metadata": {},
   "source": [
    "6) Utilizar un ciclo while para realizar el factorial de un número guardado en una variable, sólo si la variable contiene un número entero mayor a 0"
   ]
  },
  {
   "cell_type": "code",
   "execution_count": 4,
   "metadata": {},
   "outputs": [
    {
     "name": "stdout",
     "output_type": "stream",
     "text": [
      " el factorial de 1 es  120\n"
     ]
    }
   ],
   "source": [
    "def factorial(n):\n",
    "    factorial = n\n",
    "    while (n > 1):\n",
    "        factorial = factorial * (n - 1)\n",
    "        n = n -1 \n",
    "        \n",
    "    print(\" el factorial de\", n, \"es \", factorial)\n",
    "\n",
    "\n",
    "factorial(5)"
   ]
  },
  {
   "attachments": {},
   "cell_type": "markdown",
   "metadata": {},
   "source": [
    "7) Crear un ciclo for dentro de un ciclo while"
   ]
  },
  {
   "cell_type": "code",
   "execution_count": 37,
   "metadata": {},
   "outputs": [
    {
     "name": "stdout",
     "output_type": "stream",
     "text": [
      "0\n",
      "0\n",
      "1\n",
      "0\n",
      "1\n",
      "2\n",
      "0\n",
      "1\n",
      "2\n",
      "3\n"
     ]
    }
   ],
   "source": [
    "x = 0\n",
    "while x < 5:\n",
    "    for y in range(x):\n",
    "        print( y)\n",
    "    x+=1\n"
   ]
  },
  {
   "attachments": {},
   "cell_type": "markdown",
   "metadata": {},
   "source": [
    "8) Crear un ciclo while dentro de un ciclo for"
   ]
  },
  {
   "cell_type": "code",
   "execution_count": 41,
   "metadata": {},
   "outputs": [
    {
     "name": "stdout",
     "output_type": "stream",
     "text": [
      "0\n",
      "2\n",
      "4\n",
      "6\n",
      "8\n"
     ]
    }
   ],
   "source": [
    "x=0\n",
    "for x in range (0 ,10):\n",
    "    while x % 2 == 0:\n",
    "        print (x)\n",
    "        x+=1\n"
   ]
  },
  {
   "attachments": {},
   "cell_type": "markdown",
   "metadata": {},
   "source": [
    "9) Imprimir los números primos existentes entre 0 y 30"
   ]
  },
  {
   "cell_type": "code",
   "execution_count": 83,
   "metadata": {},
   "outputs": [
    {
     "name": "stdout",
     "output_type": "stream",
     "text": [
      "0\n",
      "1\n",
      "2\n",
      "3\n",
      "5\n",
      "7\n",
      "11\n",
      "13\n",
      "17\n",
      "19\n",
      "23\n",
      "29\n",
      "total de ciclos:  378\n"
     ]
    }
   ],
   "source": [
    "x= 0\n",
    "primo = True\n",
    "ciclos = 0\n",
    "\n",
    "while x < 30:\n",
    "    for div in range (2,x):\n",
    "        ciclos += 1\n",
    "        if x % div == 0:\n",
    "            primo = False\n",
    "    if primo:\n",
    "        print(x)\n",
    "    primo = True\n",
    "    x+=1\n",
    "print(\"total de ciclos: \", ciclos)\n",
    "\n",
    "    "
   ]
  },
  {
   "attachments": {},
   "cell_type": "markdown",
   "metadata": {},
   "source": [
    "10) ¿Se puede mejorar el proceso del punto 9? Utilizar las sentencias break y/ó continue para tal fin"
   ]
  },
  {
   "cell_type": "code",
   "execution_count": 85,
   "metadata": {},
   "outputs": [
    {
     "name": "stdout",
     "output_type": "stream",
     "text": [
      "0\n",
      "1\n",
      "2\n",
      "3\n",
      "5\n",
      "7\n",
      "11\n",
      "13\n",
      "17\n",
      "19\n",
      "23\n",
      "29\n",
      "total de ciclos:  134\n"
     ]
    }
   ],
   "source": [
    "x= 0\n",
    "primo = True\n",
    "ciclos = 0\n",
    "\n",
    "while x < 30:\n",
    "    for div in range (2,x):\n",
    "        ciclos += 1\n",
    "        if x % div == 0:\n",
    "            primo = False\n",
    "            break\n",
    "    if primo:\n",
    "        print(x)\n",
    "    primo = True\n",
    "    x+=1\n",
    "print(\"total de ciclos: \", ciclos)\n",
    "\n",
    "    "
   ]
  },
  {
   "attachments": {},
   "cell_type": "markdown",
   "metadata": {},
   "source": [
    "11) En los puntos 9 y 10, se diseño un código que encuentra números primos y además se lo optimizó. ¿Es posible saber en qué medida se optimizó?"
   ]
  },
  {
   "cell_type": "code",
   "execution_count": 86,
   "metadata": {},
   "outputs": [
    {
     "name": "stdout",
     "output_type": "stream",
     "text": [
      "se optimizo en  244 ciclos\n",
      " es un  64 %\n"
     ]
    }
   ],
   "source": [
    "optimizacion = 378 - 134\n",
    "print( \"se optimizo en \", optimizacion, \"ciclos\")\n",
    "opt_porcent = (optimizacion / 378) * 100\n",
    "print(\" es un \", int(opt_porcent), \"%\")\n"
   ]
  },
  {
   "attachments": {},
   "cell_type": "markdown",
   "metadata": {},
   "source": [
    "12) Aplicando continue, armar un ciclo while que solo imprima los valores divisibles por 12, dentro del rango de números de 100 a 300"
   ]
  },
  {
   "cell_type": "code",
   "execution_count": 87,
   "metadata": {},
   "outputs": [
    {
     "name": "stdout",
     "output_type": "stream",
     "text": [
      "0\n",
      "1\n",
      "2\n",
      "3\n",
      "5\n",
      "7\n",
      "11\n",
      "13\n",
      "17\n",
      "19\n",
      "23\n",
      "29\n",
      "31\n",
      "37\n",
      "41\n",
      "43\n",
      "47\n",
      "53\n",
      "59\n",
      "61\n",
      "67\n",
      "71\n",
      "73\n",
      "79\n",
      "83\n",
      "89\n",
      "97\n",
      "total de ciclos:  1132\n",
      "se optimizo en  3718 ciclos\n",
      " es un  76 %\n"
     ]
    }
   ],
   "source": [
    "x= 0\n",
    "primo = True\n",
    "ciclos = 0\n",
    "\n",
    "while x < 100:\n",
    "    for div in range (2,x):\n",
    "        ciclos += 1\n",
    "        if x % div == 0:\n",
    "            primo = False\n",
    "            break\n",
    "    if primo:\n",
    "        print(x)\n",
    "    primo = True\n",
    "    x+=1\n",
    "totalciclos_conbreak = ciclos\n",
    "print(\"total de ciclos: \", totalciclos_conbreak)\n",
    "##totalciclos_sinbreak = 4851\n",
    "##totalciclos_conbreak = 1133\n",
    "\n",
    "optimizacion = 4851 - 1133\n",
    "print( \"se optimizo en \", optimizacion, \"ciclos\")\n",
    "opt_porcent = ( optimizacion / 4851) * 100\n",
    "print(\" es un \", int(opt_porcent), \"%\")"
   ]
  },
  {
   "attachments": {},
   "cell_type": "markdown",
   "metadata": {},
   "source": [
    "13) Utilizar la función **input()** que permite hacer ingresos por teclado, para encontrar números primos y dar la opción al usario de buscar el siguiente"
   ]
  },
  {
   "cell_type": "code",
   "execution_count": 82,
   "metadata": {},
   "outputs": [
    {
     "name": "stdout",
     "output_type": "stream",
     "text": [
      "108\n",
      "120\n",
      "132\n",
      "144\n",
      "156\n",
      "168\n",
      "180\n",
      "192\n",
      "204\n",
      "216\n",
      "228\n",
      "240\n",
      "252\n",
      "264\n",
      "276\n",
      "288\n",
      "300\n"
     ]
    }
   ],
   "source": [
    "x = 99\n",
    "\n",
    "while (x <= 300):\n",
    "    x+=1\n",
    "    if (x % 12 != 0):\n",
    "        continue\n",
    "    print(x)\n",
    "    \n",
    "    "
   ]
  },
  {
   "attachments": {},
   "cell_type": "markdown",
   "metadata": {},
   "source": [
<<<<<<< HEAD
    "14) Utilizar la función **input()** que permite hacer ingresos por teclado, para encontrar números primos y dar la opción al usario de buscar el siguiente"
   ]
  },
  {
   "cell_type": "code",
   "execution_count": 1,
   "metadata": {},
   "outputs": [
    {
     "name": "stdout",
     "output_type": "stream",
     "text": [
      "0\n",
      "1\n",
      "2\n",
      "3\n",
      "se termina el proceso\n"
     ]
    }
   ],
   "source": [
    "x= 0\n",
    "primo = True\n",
    "continuar = \"si\"\n",
    "\n",
    "while (continuar == \"si\"):\n",
    "    for div in range (2,x):\n",
    "        if x % div == 0:\n",
    "            primo = False\n",
    "            break\n",
    "    if (primo):\n",
    "        print(x)\n",
    "        cont = input(str(\"desea continuar?: \"))\n",
    "        if (cont== \"si\"):\n",
    "            continuar == \"si\"\n",
    "        else:\n",
    "            continuar == \"no\"\n",
    "            print(\"se termina el proceso\")\n",
    "            break \n",
    "    primo = True\n",
    "    x+=1\n"
   ]
  },
  {
   "attachments": {},
   "cell_type": "markdown",
   "metadata": {},
   "source": [
    "15) Crear un ciclo while que encuentre dentro del rango de 100 a 300 el primer número divisible por 3 y además múltiplo de 6"
=======
    "14) Crear un ciclo while que encuentre dentro del rango de 100 a 300 el primer número divisible por 3 y además múltiplo de 6"
>>>>>>> 7b194301ed06dfea65c6618bcac91dbd78537c72
   ]
  },
  {
   "cell_type": "code",
   "execution_count": null,
   "metadata": {},
   "outputs": [],
   "source": []
  }
 ],
 "metadata": {
  "interpreter": {
   "hash": "c85384e4cb51c8b72350f3a8712cc8351fdc3955e32a27f9b60c6242ab125f01"
  },
  "kernelspec": {
   "display_name": "Python 3 (ipykernel)",
   "language": "python",
   "name": "python3"
  },
  "language_info": {
   "codemirror_mode": {
    "name": "ipython",
    "version": 3
   },
   "file_extension": ".py",
   "mimetype": "text/x-python",
   "name": "python",
   "nbconvert_exporter": "python",
   "pygments_lexer": "ipython3",
   "version": "3.11.4"
  }
 },
 "nbformat": 4,
 "nbformat_minor": 4
}
