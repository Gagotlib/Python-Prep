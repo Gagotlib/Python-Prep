{
 "cells": [
  {
   "attachments": {},
   "cell_type": "markdown",
   "metadata": {},
   "source": [
    "## Manejo de errores"
   ]
  },
  {
   "attachments": {},
   "cell_type": "markdown",
   "metadata": {},
   "source": [
    "1) Con la clase creada en el módulo 7, tener en cuenta diferentes casos en que el código pudiera arrojar error. Por ejemplo, en la creación del objeto recibimos una lista de números enteros pero ¿qué pasa si se envía otro tipo de dato?"
   ]
  },
  {
   "cell_type": "code",
   "execution_count": 69,
   "metadata": {},
   "outputs": [],
   "source": [
    "import sys\n",
    "sys.path.append(r'C:\\Users\\Gabriel\\Documents\\Programacion\\Henry\\IntroPython\\Python-Prep\\M08_clasesyOOP\\herramientas2.py')"
   ]
  },
  {
   "cell_type": "code",
   "execution_count": 125,
   "metadata": {},
   "outputs": [],
   "source": [
    "import herramientas2 as h"
   ]
  },
  {
   "cell_type": "code",
   "execution_count": 126,
   "metadata": {},
   "outputs": [
    {
     "ename": "TypeError",
     "evalue": "'str' object cannot be interpreted as an integer",
     "output_type": "error",
     "traceback": [
      "\u001b[1;31m---------------------------------------------------------------------------\u001b[0m",
      "\u001b[1;31mTypeError\u001b[0m                                 Traceback (most recent call last)",
      "Cell \u001b[1;32mIn[126], line 2\u001b[0m\n\u001b[0;32m      1\u001b[0m h_2 \u001b[39m=\u001b[39m h\u001b[39m.\u001b[39mHerramientas2(\u001b[39m\"\u001b[39m\u001b[39mhola\u001b[39m\u001b[39m\"\u001b[39m)\n\u001b[1;32m----> 2\u001b[0m h_2\u001b[39m.\u001b[39;49mencontrarprimo()\n",
      "File \u001b[1;32m~\\Documents\\Programacion\\Henry\\IntroPython\\Python-Prep\\M08_clasesyOOP\\herramientas2.py:54\u001b[0m, in \u001b[0;36mHerramientas2.encontrarprimo\u001b[1;34m(self)\u001b[0m\n\u001b[0;32m     52\u001b[0m \u001b[39mdef\u001b[39;00m \u001b[39mencontrarprimo\u001b[39m(\u001b[39mself\u001b[39m):\n\u001b[0;32m     53\u001b[0m     \u001b[39mfor\u001b[39;00m i \u001b[39min\u001b[39;00m \u001b[39mself\u001b[39m\u001b[39m.\u001b[39mlistavalores:\n\u001b[1;32m---> 54\u001b[0m         \u001b[39mif\u001b[39;00m (\u001b[39mself\u001b[39;49m\u001b[39m.\u001b[39;49m__encontrarprimo(i)):\n\u001b[0;32m     55\u001b[0m             \u001b[39mprint\u001b[39m(i,\u001b[39m\"\u001b[39m\u001b[39mes primo\u001b[39m\u001b[39m\"\u001b[39m)\n\u001b[0;32m     56\u001b[0m         \u001b[39melse\u001b[39;00m:\n",
      "File \u001b[1;32m~\\Documents\\Programacion\\Henry\\IntroPython\\Python-Prep\\M08_clasesyOOP\\herramientas2.py:63\u001b[0m, in \u001b[0;36mHerramientas2.__encontrarprimo\u001b[1;34m(self, nro)\u001b[0m\n\u001b[0;32m     61\u001b[0m \u001b[39mdef\u001b[39;00m \u001b[39m__encontrarprimo\u001b[39m(\u001b[39mself\u001b[39m,nro):\n\u001b[0;32m     62\u001b[0m     primo \u001b[39m=\u001b[39m \u001b[39mTrue\u001b[39;00m\n\u001b[1;32m---> 63\u001b[0m     \u001b[39mfor\u001b[39;00m div \u001b[39min\u001b[39;00m \u001b[39mrange\u001b[39m(\u001b[39m2\u001b[39m, nro):\n\u001b[0;32m     64\u001b[0m         \u001b[39mif\u001b[39;00m (nro \u001b[39m%\u001b[39m div \u001b[39m==\u001b[39m \u001b[39m0\u001b[39m):\n\u001b[0;32m     65\u001b[0m             primo \u001b[39m=\u001b[39m \u001b[39mFalse\u001b[39;00m\n",
      "\u001b[1;31mTypeError\u001b[0m: 'str' object cannot be interpreted as an integer"
     ]
    }
   ],
   "source": [
    "h_2 = h.Herramientas2(\"hola\")\n",
    "h_2.encontrarprimo()\n"
   ]
  },
  {
   "cell_type": "code",
   "execution_count": 127,
   "metadata": {},
   "outputs": [
    {
     "name": "stdout",
     "output_type": "stream",
     "text": [
      "1 es primo\n",
      "2 es primo\n",
      "2 es primo\n",
      "3 es primo\n",
      "3 es primo\n",
      "3 es primo\n",
      "4 no es primo\n",
      "4 no es primo\n",
      "4 no es primo\n",
      "4 no es primo\n",
      "5 es primo\n",
      "5 es primo\n",
      "5 es primo\n",
      "5 es primo\n",
      "5 es primo\n"
     ]
    }
   ],
   "source": [
    "h_3 = h.Herramientas2([1,2,2,3,3,3,4,4,4,4,5,5,5,5,5,])\n",
    "h_3.encontrarprimo()\n"
   ]
  },
  {
   "cell_type": "code",
   "execution_count": 128,
   "metadata": {},
   "outputs": [
    {
     "name": "stdout",
     "output_type": "stream",
     "text": [
      "1 grados Farenheit son -17.22222222222222 grados Celsius\n",
      "2 grados Farenheit son -16.666666666666668 grados Celsius\n",
      "2 grados Farenheit son -16.666666666666668 grados Celsius\n",
      "3 grados Farenheit son -16.11111111111111 grados Celsius\n",
      "3 grados Farenheit son -16.11111111111111 grados Celsius\n",
      "3 grados Farenheit son -16.11111111111111 grados Celsius\n",
      "4 grados Farenheit son -15.555555555555555 grados Celsius\n",
      "4 grados Farenheit son -15.555555555555555 grados Celsius\n",
      "4 grados Farenheit son -15.555555555555555 grados Celsius\n",
      "4 grados Farenheit son -15.555555555555555 grados Celsius\n",
      "5 grados Farenheit son -15.0 grados Celsius\n",
      "5 grados Farenheit son -15.0 grados Celsius\n",
      "5 grados Farenheit son -15.0 grados Celsius\n",
      "5 grados Farenheit son -15.0 grados Celsius\n",
      "5 grados Farenheit son -15.0 grados Celsius\n"
     ]
    }
   ],
   "source": [
    "h_3 = h.Herramientas2([1,2,2,3,3,3,4,4,4,4,5,5,5,5,5,])\n",
    "h_3.convertir_grados(\"Farenheit\", \"Celsius\")"
   ]
  },
  {
   "cell_type": "code",
   "execution_count": 133,
   "metadata": {},
   "outputs": [
    {
     "name": "stdout",
     "output_type": "stream",
     "text": [
      "{1: 1, 2: 2, 3: 3, 4: 4, 5: 5}\n",
      "el numero mas repetido es el 5 que se repite 5 veces\n"
     ]
    },
    {
     "data": {
      "text/plain": [
       "(5, 5)"
      ]
     },
     "execution_count": 133,
     "metadata": {},
     "output_type": "execute_result"
    }
   ],
   "source": [
    "h_3 = h.Herramientas2([1,2,2,3,3,3,4,4,4,4,5,5,5,5,5,])\n",
    "h_3.masrepetido()"
   ]
  },
  {
   "attachments": {},
   "cell_type": "markdown",
   "metadata": {},
   "source": [
    "2) En la función que hace la conversión de grados, validar que los parámetros enviados sean los esperados, de no serlo, informar cuáles son los valores esperados."
   ]
  },
  {
   "cell_type": "code",
   "execution_count": 183,
   "metadata": {},
   "outputs": [
    {
     "data": {
      "text/plain": [
       "<module 'herramientas2' from 'C:\\\\Users\\\\Gabriel\\\\Documents\\\\Programacion\\\\Henry\\\\IntroPython\\\\Python-Prep\\\\M08_clasesyOOP\\\\herramientas2.py'>"
      ]
     },
     "execution_count": 183,
     "metadata": {},
     "output_type": "execute_result"
    }
   ],
   "source": [
    "import importlib\n",
    "importlib.reload(h)"
   ]
  },
  {
   "cell_type": "code",
   "execution_count": 186,
   "metadata": {},
   "outputs": [
    {
     "ename": "ValueError",
     "evalue": "valor de destino esperado: 'Celsius', 'Farenheit', 'Kelvin' ",
     "output_type": "error",
     "traceback": [
      "\u001b[1;31m---------------------------------------------------------------------------\u001b[0m",
      "\u001b[1;31mValueError\u001b[0m                                Traceback (most recent call last)",
      "Cell \u001b[1;32mIn[186], line 2\u001b[0m\n\u001b[0;32m      1\u001b[0m h_4 \u001b[39m=\u001b[39m h\u001b[39m.\u001b[39mHerramientas2([\u001b[39m1\u001b[39m,\u001b[39m2\u001b[39m,\u001b[39m2\u001b[39m,\u001b[39m3\u001b[39m,\u001b[39m3\u001b[39m,\u001b[39m3\u001b[39m,\u001b[39m4\u001b[39m,\u001b[39m4\u001b[39m,\u001b[39m4\u001b[39m,\u001b[39m4\u001b[39m,\u001b[39m5\u001b[39m,\u001b[39m5\u001b[39m,\u001b[39m5\u001b[39m,\u001b[39m5\u001b[39m,\u001b[39m5\u001b[39m,])\n\u001b[1;32m----> 2\u001b[0m h_4\u001b[39m.\u001b[39;49mconvertir_grados(\u001b[39m\"\u001b[39;49m\u001b[39mKelvin\u001b[39;49m\u001b[39m\"\u001b[39;49m, \u001b[39m\"\u001b[39;49m\u001b[39mCelsiu\u001b[39;49m\u001b[39m\"\u001b[39;49m)\n",
      "File \u001b[1;32m~\\Documents\\Programacion\\Henry\\IntroPython\\Python-Prep\\M08_clasesyOOP\\herramientas2.py:18\u001b[0m, in \u001b[0;36mHerramientas2.convertir_grados\u001b[1;34m(self, origen, destino)\u001b[0m\n\u001b[0;32m     15\u001b[0m     \u001b[39mraise\u001b[39;00m \u001b[39mValueError\u001b[39;00m(\u001b[39m\"\u001b[39m\u001b[39mvalor de origen esperado: \u001b[39m\u001b[39m'\u001b[39m\u001b[39mCelsius\u001b[39m\u001b[39m'\u001b[39m\u001b[39m, \u001b[39m\u001b[39m'\u001b[39m\u001b[39mFarenheit\u001b[39m\u001b[39m'\u001b[39m\u001b[39m, \u001b[39m\u001b[39m'\u001b[39m\u001b[39mKelvin\u001b[39m\u001b[39m'\u001b[39m\u001b[39m \u001b[39m\u001b[39m\"\u001b[39m)\n\u001b[0;32m     17\u001b[0m \u001b[39mif\u001b[39;00m destino \u001b[39mnot\u001b[39;00m \u001b[39min\u001b[39;00m [\u001b[39m\"\u001b[39m\u001b[39mCelsius\u001b[39m\u001b[39m\"\u001b[39m, \u001b[39m\"\u001b[39m\u001b[39mFarenheit\u001b[39m\u001b[39m\"\u001b[39m, \u001b[39m\"\u001b[39m\u001b[39mKelvin\u001b[39m\u001b[39m\"\u001b[39m]:\n\u001b[1;32m---> 18\u001b[0m     \u001b[39mraise\u001b[39;00m \u001b[39mValueError\u001b[39;00m(\u001b[39m\"\u001b[39m\u001b[39mvalor de destino esperado: \u001b[39m\u001b[39m'\u001b[39m\u001b[39mCelsius\u001b[39m\u001b[39m'\u001b[39m\u001b[39m, \u001b[39m\u001b[39m'\u001b[39m\u001b[39mFarenheit\u001b[39m\u001b[39m'\u001b[39m\u001b[39m, \u001b[39m\u001b[39m'\u001b[39m\u001b[39mKelvin\u001b[39m\u001b[39m'\u001b[39m\u001b[39m \u001b[39m\u001b[39m\"\u001b[39m)\n\u001b[0;32m     20\u001b[0m \u001b[39mfor\u001b[39;00m i \u001b[39min\u001b[39;00m \u001b[39mself\u001b[39m\u001b[39m.\u001b[39mlistavalores:\n\u001b[0;32m     21\u001b[0m     \u001b[39mprint\u001b[39m(i,\u001b[39m\"\u001b[39m\u001b[39mgrados\u001b[39m\u001b[39m\"\u001b[39m, origen, \u001b[39m\"\u001b[39m\u001b[39mson\u001b[39m\u001b[39m\"\u001b[39m,\u001b[39mself\u001b[39m\u001b[39m.\u001b[39m__convertir_grados(i,origen,destino), \u001b[39m\"\u001b[39m\u001b[39mgrados\u001b[39m\u001b[39m\"\u001b[39m, destino)\n",
      "\u001b[1;31mValueError\u001b[0m: valor de destino esperado: 'Celsius', 'Farenheit', 'Kelvin' "
     ]
    }
   ],
   "source": [
    "h_4 = h.Herramientas2([1,2,2,3,3,3,4,4,4,4,5,5,5,5,5,])\n",
    "h_4.convertir_grados(\"Kelvin\", \"Celsiu\")"
   ]
  },
  {
   "cell_type": "code",
   "execution_count": 188,
   "metadata": {},
   "outputs": [
    {
     "name": "stdout",
     "output_type": "stream",
     "text": [
      "1 grados Farenheit son -17.22222222222222 grados Celsius\n",
      "2 grados Farenheit son -16.666666666666668 grados Celsius\n",
      "2 grados Farenheit son -16.666666666666668 grados Celsius\n",
      "3 grados Farenheit son -16.11111111111111 grados Celsius\n",
      "3 grados Farenheit son -16.11111111111111 grados Celsius\n",
      "3 grados Farenheit son -16.11111111111111 grados Celsius\n",
      "4 grados Farenheit son -15.555555555555555 grados Celsius\n",
      "4 grados Farenheit son -15.555555555555555 grados Celsius\n",
      "4 grados Farenheit son -15.555555555555555 grados Celsius\n",
      "4 grados Farenheit son -15.555555555555555 grados Celsius\n",
      "5 grados Farenheit son -15.0 grados Celsius\n",
      "5 grados Farenheit son -15.0 grados Celsius\n",
      "5 grados Farenheit son -15.0 grados Celsius\n",
      "5 grados Farenheit son -15.0 grados Celsius\n",
      "5 grados Farenheit son -15.0 grados Celsius\n"
     ]
    }
   ],
   "source": [
    "h_4 = h.Herramientas2([1,2,2,3,3,3,4,4,4,4,5,5,5,5,5,])\n",
    "h_4.convertir_grados(\"Farenheit\", \"Celsius\")"
   ]
  },
  {
   "attachments": {},
   "cell_type": "markdown",
   "metadata": {},
   "source": [
    "3) Importar el modulo \"unittest\" y crear los siguientes casos de pruebas sobre la clase utilizada en el punto 2<br>\n",
    "Creacion del objeto incorrecta<br>\n",
    "Creacion correcta del objeto<br>\n",
    "Metodo valor_modal()<br>\n",
    "\n",
    "Se puede usar \"raise ValueError()\" en la creación de la clase para verificar el error. Investigar sobre esta funcionalidad."
   ]
  },
  {
   "cell_type": "code",
   "execution_count": null,
   "metadata": {},
   "outputs": [],
   "source": []
  },
  {
   "attachments": {},
   "cell_type": "markdown",
   "metadata": {},
   "source": [
    "4) Probar una creación incorrecta y visualizar la salida del \"raise\""
   ]
  },
  {
   "cell_type": "code",
   "execution_count": null,
   "metadata": {},
   "outputs": [],
   "source": []
  },
  {
   "attachments": {},
   "cell_type": "markdown",
   "metadata": {},
   "source": [
    "6) Agregar casos de pruebas para el método verifica_primos() realizando el cambio en la clase, para que devuelva una lista de True o False en función de que el elemento en la posisicón sea o no primo"
   ]
  },
  {
   "cell_type": "code",
   "execution_count": null,
   "metadata": {},
   "outputs": [],
   "source": []
  },
  {
   "attachments": {},
   "cell_type": "markdown",
   "metadata": {},
   "source": [
    "7) Agregar casos de pruebas para el método conversion_grados()"
   ]
  },
  {
   "cell_type": "code",
   "execution_count": null,
   "metadata": {},
   "outputs": [],
   "source": []
  },
  {
   "attachments": {},
   "cell_type": "markdown",
   "metadata": {},
   "source": [
    "8) Agregar casos de pruebas para el método factorial()"
   ]
  },
  {
   "cell_type": "code",
   "execution_count": null,
   "metadata": {},
   "outputs": [],
   "source": []
  }
 ],
 "metadata": {
  "interpreter": {
   "hash": "c85384e4cb51c8b72350f3a8712cc8351fdc3955e32a27f9b60c6242ab125f01"
  },
  "kernelspec": {
   "display_name": "Python 3 (ipykernel)",
   "language": "python",
   "name": "python3"
  },
  "language_info": {
   "codemirror_mode": {
    "name": "ipython",
    "version": 3
   },
   "file_extension": ".py",
   "mimetype": "text/x-python",
   "name": "python",
   "nbconvert_exporter": "python",
   "pygments_lexer": "ipython3",
   "version": "3.11.4"
  }
 },
 "nbformat": 4,
 "nbformat_minor": 4
}
